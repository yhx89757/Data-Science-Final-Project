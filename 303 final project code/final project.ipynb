{
 "cells": [
  {
   "cell_type": "code",
   "execution_count": 1,
   "metadata": {},
   "outputs": [],
   "source": [
    "import pandas as pd\n",
    "import numpy as np\n",
    "from sklearn.ensemble import RandomForestClassifier\n",
    "from sklearn.model_selection import GridSearchCV,ShuffleSplit,train_test_split,cross_val_score\n",
    "from sklearn import metrics,preprocessing,datasets,tree\n",
    "import matplotlib.pylab as plt\n",
    "from pandas import DataFrame\n",
    "from sklearn.utils import shuffle "
   ]
  },
  {
   "cell_type": "code",
   "execution_count": 2,
   "metadata": {},
   "outputs": [],
   "source": [
    "# load data for training set\n",
    "data = np.genfromtxt(\"by18.txt\", dtype = float )\n",
    "data = data.T\n",
    "\n",
    "depth = data[0]\n",
    "CALI = data[1]\n",
    "GR = data[3]\n",
    "RILD = data[4]\n",
    "RILM = data[5]\n",
    "CNL = data[8]\n",
    "PEF = data[9]\n",
    "RHOB = data[10]\n",
    "RSFL = data[11]\n",
    "SP = data[13]\n",
    "\n",
    "\n",
    "df = DataFrame(\n",
    "    {\n",
    "#      'Depth' : depth,\n",
    "     'Caliper': CALI,\n",
    "     'Gamma Ray' : GR,\n",
    "     'Deep Induction Resistivity' : RILD,\n",
    "     'Medium Induction Resistivity': RILM,\n",
    "     'Neutron Porosity (phi)' : CNL,\n",
    "     'Formation Density' : RHOB,\n",
    "     'Photoelectric Effect' : PEF,\n",
    "     'Spherically Focused Resistivity' :RSFL,\n",
    "     'Spontaneous Potential' : SP\n",
    "    })\n",
    "\n",
    "df.index = [depth]\n",
    "\n",
    "target = ['']*len(depth)\n",
    "for idx in range(len(depth)):\n",
    "    target[idx]= 'no'\n",
    "\n",
    "for idx in range((5670-4700)*2,(5740-4700)*2):\n",
    "    target[idx]= 'yes'\n",
    "for idx in range((5508-4700)*2,(5520-4700)*2):\n",
    "    target[idx]= 'yes'\n",
    "for idx in range((5571-4700)*2,(5582-4700)*2):\n",
    "    target[idx]= 'yes'\n",
    "for idx in range((5600-4700)*2,(5612-4700)*2):\n",
    "    target[idx]= 'yes'\n",
    "for idx in range((5310-4700)*2,(5332-4700)*2):\n",
    "    target[idx]= 'yes'\n",
    "for idx in range((5189-4700)*2,(5198-4700)*2):\n",
    "    target[idx]= 'yes' \n",
    "\n",
    "df.index = [depth]\n",
    "df['Target'] = target\n",
    "\n",
    "df = df.dropna(axis=0,how='any')\n",
    "df = shuffle(df)"
   ]
  },
  {
   "cell_type": "code",
   "execution_count": 3,
   "metadata": {},
   "outputs": [],
   "source": [
    "# load data for test set\n",
    "data = np.genfromtxt(\"by15.txt\", dtype = float )\n",
    "data = data.T\n",
    "\n",
    "depth = data[0]\n",
    "CALI = data[1]\n",
    "GR = data[2]\n",
    "CNL = data[3]\n",
    "PEF = data[4]\n",
    "RILD = data[5]\n",
    "RHOB = data[6]\n",
    "RILM = data[7]\n",
    "RSFL = data[8]\n",
    "SP = data[9]\n",
    "\n",
    "df2 = DataFrame(\n",
    "    {\n",
    "#      'Depth' : depth,\n",
    "     'Caliper': CALI,\n",
    "     'Gamma Ray' : GR,\n",
    "     'Deep Induction Resistivity' : RILD,\n",
    "     'Medium Induction Resistivity': RILM,\n",
    "     'Neutron Porosity (phi)' : CNL,\n",
    "     'Formation Density' : RHOB,\n",
    "     'Photoelectric Effect' : PEF,\n",
    "     'Spherically Focused Resistivity' :RSFL,\n",
    "     'Spontaneous Potential' : SP\n",
    "    })\n",
    "\n",
    "df2.index = [depth]\n",
    "\n",
    "target = ['']*len(depth)\n",
    "for idx in range(len(depth)):\n",
    "    target[idx]= 'no'\n",
    "\n",
    "for idx in range((5729-4600)*2,(5764-4600)*2):\n",
    "    target[idx]= 'yes'\n",
    "for idx in range((5616-4600)*2,(5626-4600)*2):\n",
    "    target[idx]= 'yes'\n",
    "for idx in range((5641-4600)*2,(5646-4600)*2):\n",
    "    target[idx]= 'yes'\n",
    "for idx in range((5357-4600)*2,(5364-4600)*2):\n",
    "    target[idx]= 'yes'\n",
    "for idx in range((5381-4600)*2,(5387-4600)*2):\n",
    "    target[idx]= 'yes'\n",
    "for idx in range((5225-4600)*2,(5235-4600)*2):\n",
    "    target[idx]= 'yes'\n",
    "\n",
    "df2.index = [depth]\n",
    "df2['Target'] = target\n",
    "\n",
    "df2 = df2.dropna(axis=0,how='any')\n",
    "df2 = shuffle(df2)"
   ]
  },
  {
   "cell_type": "code",
   "execution_count": 4,
   "metadata": {},
   "outputs": [],
   "source": [
    "# split\n",
    "# X_train, X_test, y_train, y_test = train_test_split(df.iloc[:,:-1],df['Target'],test_size=0.2)\n",
    "# y_train\n",
    "X_train, X_test, y_train, y_test = df.iloc[:,:-1],df2.iloc[:,:-1],df['Target'],df2['Target']"
   ]
  },
  {
   "cell_type": "markdown",
   "metadata": {},
   "source": [
    "# Decision Tree"
   ]
  },
  {
   "cell_type": "code",
   "execution_count": 5,
   "metadata": {},
   "outputs": [],
   "source": [
    "# # create model\n",
    "# clf = tree.DecisionTreeClassifier()  \n",
    "# clf.fit(X_train, y_train)  \n",
    "# y_pred = clf.predict(X_test)\n",
    "# # metrics.roc_auc_score(y_test,y_pred)\n",
    "# print(metrics.accuracy_score(y_test, y_pred))\n",
    "# print(y_pred)"
   ]
  },
  {
   "cell_type": "markdown",
   "metadata": {},
   "source": [
    "# Random Forest"
   ]
  },
  {
   "cell_type": "code",
   "execution_count": 6,
   "metadata": {},
   "outputs": [],
   "source": [
    "scores = [0]*200\n",
    "for i in range(200):\n",
    "    clf = RandomForestClassifier()\n",
    "    clf.fit(X_train, y_train)\n",
    "    y_pred = clf.predict(X_test)\n",
    "    scores[i] = metrics.accuracy_score(y_test, y_pred)\n",
    "#     print(metrics.accuracy_score(y_test, y_pred))"
   ]
  },
  {
   "cell_type": "code",
   "execution_count": 7,
   "metadata": {},
   "outputs": [
    {
     "name": "stdout",
     "output_type": "stream",
     "text": [
      "mean:  0.9534246575342465\n",
      "avg:  0.9310684931506849\n",
      "[0.3169533  0.13394313 0.03684764 0.14856768 0.02924977 0.02063969\n",
      " 0.06764829 0.0390927  0.2070578 ]\n",
      "RandomForestClassifier(bootstrap=True, class_weight=None, criterion='gini',\n",
      "            max_depth=None, max_features='auto', max_leaf_nodes=None,\n",
      "            min_impurity_decrease=0.0, min_impurity_split=None,\n",
      "            min_samples_leaf=1, min_samples_split=2,\n",
      "            min_weight_fraction_leaf=0.0, n_estimators=10, n_jobs=1,\n",
      "            oob_score=False, random_state=None, verbose=0,\n",
      "            warm_start=False)\n"
     ]
    }
   ],
   "source": [
    "scores = np.array(scores)\n",
    "print('mean: ',scores.max())\n",
    "print('avg: ',scores.mean())\n",
    "print(clf.feature_importances_)\n",
    "# print(y_pred)\n",
    "print(clf)"
   ]
  },
  {
   "cell_type": "code",
   "execution_count": 8,
   "metadata": {},
   "outputs": [],
   "source": [
    "import itertools\n",
    "def plot_confusion_matrix(cm, classes,\n",
    "                          normalize=False,\n",
    "                          title='Confusion matrix',\n",
    "                          cmap=plt.cm.Blues):\n",
    "    \"\"\"\n",
    "    This function prints and plots the confusion matrix.\n",
    "    Normalization can be applied by setting `normalize=True`.\n",
    "    \"\"\"\n",
    "    if normalize:\n",
    "        cm = cm.astype('float') / cm.sum(axis=1)[:, np.newaxis]\n",
    "        print(\"Normalized confusion matrix\")\n",
    "    else:\n",
    "        print('Confusion matrix, without normalization')\n",
    "\n",
    "    print(cm)\n",
    "\n",
    "    plt.imshow(cm, interpolation='nearest', cmap=cmap)\n",
    "    plt.title(title)\n",
    "    plt.colorbar()\n",
    "    tick_marks = np.arange(len(classes))\n",
    "    plt.xticks(tick_marks, classes, rotation=45)\n",
    "    plt.yticks(tick_marks, classes)\n",
    "\n",
    "    fmt = '.2f' if normalize else 'd'\n",
    "    thresh = cm.max() / 2.\n",
    "    for i, j in itertools.product(range(cm.shape[0]), range(cm.shape[1])):\n",
    "        plt.text(j, i, format(cm[i, j], fmt),\n",
    "                 horizontalalignment=\"center\",\n",
    "                 color=\"white\" if cm[i, j] > thresh else \"black\")\n",
    "\n",
    "    plt.tight_layout()\n",
    "    plt.ylabel('True label')\n",
    "    plt.xlabel('Predicted label')"
   ]
  },
  {
   "cell_type": "code",
   "execution_count": 9,
   "metadata": {},
   "outputs": [
    {
     "name": "stdout",
     "output_type": "stream",
     "text": [
      "             precision    recall  f1-score   support\n",
      "\n",
      "         no       0.97      0.96      0.97      2054\n",
      "        yes       0.49      0.52      0.50       136\n",
      "\n",
      "avg / total       0.94      0.94      0.94      2190\n",
      "\n",
      "Confusion matrix, without normalization\n",
      "[[1979   65]\n",
      " [  75   71]]\n"
     ]
    },
    {
     "data": {
      "image/png": "[encoded data removed]",
      "text/plain": [
       "<matplotlib.figure.Figure at 0x223e981b550>"
      ]
     },
     "metadata": {},
     "output_type": "display_data"
    },
    {
     "name": "stdout",
     "output_type": "stream",
     "text": [
      "no     2044\n",
      "yes     146\n",
      "Name: Target, dtype: int64\n",
      "[0.32 0.13 0.04 0.15 0.03 0.02 0.07 0.04 0.21]\n"
     ]
    }
   ],
   "source": [
    "# report\n",
    "from sklearn.metrics import classification_report\n",
    "print(classification_report(y_pred, y_test, target_names=['no','yes']))\n",
    "from sklearn.metrics import confusion_matrix\n",
    "\n",
    "# compute confusion matrix\n",
    "cm = confusion_matrix(y_test,y_pred)\n",
    "np.set_printoptions(precision=2)\n",
    "\n",
    "# Plot non-normalized confusion matrix\n",
    "plt.figure()\n",
    "plot_confusion_matrix(cm, classes=['no','yes'],\n",
    "                      title='Confusion matrix, without normalization')\n",
    "plt.show()\n",
    "\n",
    "print(y_test.value_counts())\n",
    "print(clf.feature_importances_)"
   ]
  },
  {
   "cell_type": "code",
   "execution_count": 10,
   "metadata": {},
   "outputs": [],
   "source": [
    "# parameter search\n",
    "# param_test4 = {'n_estimators':range(10,51,10),'max_depth':range(2,10), 'min_samples_split':range(2,10),'min_samples_leaf':range(1,61,10)}\n",
    "# gsearch4 = GridSearchCV(estimator = clf,\n",
    "#                         param_grid = param_test4,\n",
    "#                         scoring='accuracy',\n",
    "#                         cv=5)\n",
    "# gsearch4.fit(X_train, y_train)\n",
    "# print(gsearch4.best_params_)\n",
    "# print(gsearch4.best_score_)"
   ]
  },
  {
   "cell_type": "code",
   "execution_count": 11,
   "metadata": {},
   "outputs": [],
   "source": [
    "# clf = RandomForestClassifier(n_estimators=10,max_depth=9,min_samples_leaf=1,min_samples_split=3)\n",
    "# clf.fit(X_train, y_train)\n",
    "# y_pred = clf.predict(X_test)\n",
    "# print(metrics.accuracy_score(y_test, y_pred))\n",
    "# print(clf.feature_importances_)\n",
    "# print(y_pred)\n",
    "# print(clf)"
   ]
  },
  {
   "cell_type": "code",
   "execution_count": 12,
   "metadata": {},
   "outputs": [],
   "source": [
    "scores = []\n",
    "from sklearn.neighbors import KNeighborsClassifier\n",
    "clf = KNeighborsClassifier(n_neighbors=2)\n",
    "clf.fit(X_train, y_train)\n",
    "y_pred = clf.predict(X_test)\n",
    "scores = metrics.accuracy_score(y_test, y_pred)"
   ]
  },
  {
   "cell_type": "code",
   "execution_count": 14,
   "metadata": {},
   "outputs": [
    {
     "name": "stdout",
     "output_type": "stream",
     "text": [
      "             precision    recall  f1-score   support\n",
      "\n",
      "         no       0.98      0.96      0.97      2091\n",
      "        yes       0.45      0.66      0.53        99\n",
      "\n",
      "avg / total       0.96      0.95      0.95      2190\n",
      "\n",
      "mean:  0.9474885844748858\n",
      "avg:  0.9474885844748858\n",
      "KNeighborsClassifier(algorithm='auto', leaf_size=30, metric='minkowski',\n",
      "           metric_params=None, n_jobs=1, n_neighbors=2, p=2,\n",
      "           weights='uniform')\n",
      "Confusion matrix, without normalization\n",
      "[[2010   34]\n",
      " [  81   65]]\n"
     ]
    },
    {
     "data": {
      "image/png": "[encoded data removed]",
      "text/plain": [
       "<matplotlib.figure.Figure at 0x223faf2c5c0>"
      ]
     },
     "metadata": {},
     "output_type": "display_data"
    }
   ],
   "source": [
    "print(classification_report(y_pred, y_test, target_names=['no','yes']))\n",
    "scores = np.array(scores)\n",
    "print('mean: ',scores.max())\n",
    "print('avg: ',scores.mean())\n",
    "print(clf)\n",
    "\n",
    "# compute confusion matrix\n",
    "cm = confusion_matrix(y_test,y_pred)\n",
    "np.set_printoptions(precision=2)\n",
    "\n",
    "# Plot non-normalized confusion matrix\n",
    "plt.figure()\n",
    "plot_confusion_matrix(cm, classes=['no','yes'],\n",
    "                      title='Confusion matrix, without normalization')\n",
    "plt.show()"
   ]
  },
  {
   "cell_type": "code",
   "execution_count": 16,
   "metadata": {},
   "outputs": [
    {
     "name": "stdout",
     "output_type": "stream",
     "text": [
      "diff between yes and no:  1808 225\n"
     ]
    }
   ],
   "source": [
    "print('diff between yes and no: ',len(df[df['Target']=='no']),len(df[df['Target']=='yes']))"
   ]
  },
  {
   "cell_type": "markdown",
   "metadata": {},
   "source": [
    "# PCA version"
   ]
  },
  {
   "cell_type": "code",
   "execution_count": null,
   "metadata": {},
   "outputs": [],
   "source": [
    "# load data for training set\n",
    "data = np.genfromtxt(\"by18.txt\", dtype = float )\n",
    "# data = data.T\n",
    "data = np.delete(data, [2,6,7,12], axis=1)\n",
    "\n",
    "df = DataFrame(data)\n",
    "df.index = df.iloc[:,0]\n",
    "del df[0]\n",
    "\n",
    "target = ['']*len(data[:,0])\n",
    "for idx in range(len(data[:,0])):\n",
    "    target[idx]= 'no'\n",
    "\n",
    "for idx in range((5670-4700)*2,(5740-4700)*2):\n",
    "    target[idx]= 'yes'\n",
    "for idx in range((5508-4700)*2,(5520-4700)*2):\n",
    "    target[idx]= 'yes'\n",
    "for idx in range((5571-4700)*2,(5582-4700)*2):\n",
    "    target[idx]= 'yes'\n",
    "for idx in range((5600-4700)*2,(5612-4700)*2):\n",
    "    target[idx]= 'yes'\n",
    "for idx in range((5310-4700)*2,(5332-4700)*2):\n",
    "    target[idx]= 'yes'\n",
    "for idx in range((5189-4700)*2,(5198-4700)*2):\n",
    "    target[idx]= 'yes' \n",
    "\n",
    "df['Target'] = target\n",
    "df = df.dropna(axis=0,how='any')\n",
    "target = df['Target']\n",
    "del df['Target']\n",
    "\n",
    "df = shuffle(df)\n",
    "len(df)"
   ]
  },
  {
   "cell_type": "code",
   "execution_count": null,
   "metadata": {},
   "outputs": [],
   "source": [
    "# load data for test set\n",
    "data = np.genfromtxt(\"by15.txt\", dtype = float )\n",
    "# data = data.T\n",
    "\n",
    "df2 = DataFrame(data)\n",
    "\n",
    "df2.index = df2.iloc[:,0]\n",
    "del df2[0]\n",
    "\n",
    "target2 = ['']*len(data[:,0])\n",
    "for idx in range(len(data[:,0])):\n",
    "    target2[idx]= 'no'\n",
    "\n",
    "for idx in range((5729-4600)*2,(5764-4600)*2):\n",
    "    target2[idx]= 'yes'\n",
    "for idx in range((5616-4600)*2,(5626-4600)*2):\n",
    "    target2[idx]= 'yes'\n",
    "for idx in range((5641-4600)*2,(5646-4600)*2):\n",
    "    target2[idx]= 'yes'\n",
    "for idx in range((5357-4600)*2,(5364-4600)*2):\n",
    "    target2[idx]= 'yes'\n",
    "for idx in range((5381-4600)*2,(5387-4600)*2):\n",
    "    target2[idx]= 'yes'\n",
    "for idx in range((5225-4600)*2,(5235-4600)*2):\n",
    "    target2[idx]= 'yes'\n",
    "\n",
    "df2['Target'] = target2\n",
    "df2 = df2.dropna(axis=0,how='any')\n",
    "target2 = df2['Target']\n",
    "del df2['Target']\n",
    "\n",
    "df2 = shuffle(df2)\n",
    "len(df2)"
   ]
  },
  {
   "cell_type": "code",
   "execution_count": null,
   "metadata": {},
   "outputs": [],
   "source": [
    "# from sklearn.decomposition import PCA\n",
    "df_all = df.append(df2).values\n",
    "# # X -= np.mean(X, axis = 0) # zero mean\n",
    "# # df_all.convert_objects(convert_numeric=True)\n",
    "# pca = PCA(n_components=3)\n",
    "# # pca = pca.fit(df_all)\n",
    "# df_all_reduced = pca.fit_transform(df_all)\n",
    "# df_all_reduced.shape\n",
    "df_all_reduced = df_all"
   ]
  },
  {
   "cell_type": "code",
   "execution_count": null,
   "metadata": {},
   "outputs": [],
   "source": [
    "# split data\n",
    "df = pd.DataFrame(df_all_reduced[:len(df)])\n",
    "df2 = pd.DataFrame(df_all_reduced[len(df):])\n",
    "X_train, X_test, y_train, y_test = df.iloc[:,:-1],df2.iloc[:,:-1],target,target2"
   ]
  },
  {
   "cell_type": "code",
   "execution_count": null,
   "metadata": {},
   "outputs": [],
   "source": [
    "scores = []\n",
    "from sklearn.neighbors import KNeighborsClassifier\n",
    "clf = KNeighborsClassifier(n_neighbors=2)\n",
    "clf.fit(X_train, y_train)\n",
    "y_pred = clf.predict(X_test)\n",
    "scores = metrics.accuracy_score(y_test, y_pred)"
   ]
  },
  {
   "cell_type": "code",
   "execution_count": null,
   "metadata": {},
   "outputs": [],
   "source": [
    "print(classification_report(y_pred, y_test, target_names=['no','yes']))\n",
    "scores = np.array(scores)\n",
    "print('mean: ',scores.max())\n",
    "print('avg: ',scores.mean())\n",
    "# print(clf.feature_importances_)\n",
    "# print(y_pred)\n",
    "print(clf)"
   ]
  },
  {
   "cell_type": "code",
   "execution_count": null,
   "metadata": {},
   "outputs": [],
   "source": []
  }
 ],
 "metadata": {
  "kernelspec": {
   "display_name": "Python 3",
   "language": "python",
   "name": "python3"
  },
  "language_info": {
   "codemirror_mode": {
    "name": "ipython",
    "version": 3
   },
   "file_extension": ".py",
   "mimetype": "text/x-python",
   "name": "python",
   "nbconvert_exporter": "python",
   "pygments_lexer": "ipython3",
   "version": "3.5.4"
  }
 },
 "nbformat": 4,
 "nbformat_minor": 2
}
