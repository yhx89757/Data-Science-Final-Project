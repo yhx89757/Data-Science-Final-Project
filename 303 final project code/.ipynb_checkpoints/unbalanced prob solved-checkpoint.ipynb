{
 "cells": [
  {
   "cell_type": "code",
   "execution_count": 1,
   "metadata": {},
   "outputs": [],
   "source": [
    "import pandas as pd\n",
    "import numpy as np\n",
    "from sklearn.ensemble import RandomForestClassifier\n",
    "from sklearn.model_selection import GridSearchCV,ShuffleSplit,train_test_split,cross_val_score\n",
    "from sklearn import metrics,preprocessing,datasets,tree\n",
    "import matplotlib.pylab as plt\n",
    "from pandas import DataFrame\n",
    "from sklearn.utils import shuffle "
   ]
  },
  {
   "cell_type": "code",
   "execution_count": 2,
   "metadata": {},
   "outputs": [],
   "source": [
    "# load data for training set\n",
    "data = np.genfromtxt(\"by18.txt\", dtype = float )\n",
    "data = data.T\n",
    "\n",
    "depth = data[0]\n",
    "CALI = data[1]\n",
    "GR = data[3]\n",
    "RILD = data[4]\n",
    "RILM = data[5]\n",
    "CNL = data[8]\n",
    "PEF = data[9]\n",
    "RHOB = data[10]\n",
    "RSFL = data[11]\n",
    "SP = data[13]\n",
    "\n",
    "\n",
    "df = DataFrame(\n",
    "    {\n",
    "#      'Depth' : depth,\n",
    "     'Caliper': CALI,\n",
    "     'Gamma Ray' : GR,\n",
    "     'Deep Induction Resistivity' : RILD,\n",
    "     'Medium Induction Resistivity': RILM,\n",
    "     'Neutron Porosity (phi)' : CNL,\n",
    "     'Formation Density' : RHOB,\n",
    "     'Photoelectric Effect' : PEF,\n",
    "     'Spherically Focused Resistivity' :RSFL,\n",
    "     'Spontaneous Potential' : SP\n",
    "    })\n",
    "\n",
    "df.index = [depth]\n",
    "\n",
    "target = ['']*len(depth)\n",
    "for idx in range(len(depth)):\n",
    "    target[idx]= 'no'\n",
    "\n",
    "for idx in range((5670-4700)*2,(5740-4700)*2):\n",
    "    target[idx]= 'yes'\n",
    "for idx in range((5508-4700)*2,(5520-4700)*2):\n",
    "    target[idx]= 'yes'\n",
    "for idx in range((5571-4700)*2,(5582-4700)*2):\n",
    "    target[idx]= 'yes'\n",
    "for idx in range((5600-4700)*2,(5612-4700)*2):\n",
    "    target[idx]= 'yes'\n",
    "for idx in range((5310-4700)*2,(5332-4700)*2):\n",
    "    target[idx]= 'yes'\n",
    "for idx in range((5189-4700)*2,(5198-4700)*2):\n",
    "    target[idx]= 'yes' \n",
    "\n",
    "df.index = [depth]\n",
    "df['Target'] = target\n",
    "\n",
    "df = df.dropna(axis=0,how='any')\n",
    "df = shuffle(df)"
   ]
  },
  {
   "cell_type": "code",
   "execution_count": 3,
   "metadata": {},
   "outputs": [
    {
     "name": "stdout",
     "output_type": "stream",
     "text": [
      "diff between yes and no:  1808 1808\n"
     ]
    }
   ],
   "source": [
    "df_yes = df[df['Target']=='yes']\n",
    "n_yes = len(df_yes)\n",
    "n_no = len(df[df['Target']=='no'])\n",
    "df_yes = df_yes.iloc[:,:-1]\n",
    "n_cluster = 5\n",
    "from sklearn.cluster import KMeans\n",
    "clf = KMeans(n_clusters = n_cluster, n_jobs = 4, max_iter = 500)\n",
    "clf.fit(df_yes)\n",
    "df_extra = pd.DataFrame(clf.cluster_centers_)\n",
    "for i in range(n_no-n_yes-n_cluster):\n",
    "    if i%n_cluster == 0:\n",
    "        df_extra = df_extra.append(df_extra[0:1]+np.random.rand()*2-1,ignore_index=True)\n",
    "    elif i%n_cluster == 1:\n",
    "        df_extra = df_extra.append(df_extra[1:2]+np.random.rand()*2-1,ignore_index=True)\n",
    "    elif i%n_cluster == 2:\n",
    "        df_extra = df_extra.append(df_extra[2:3]+np.random.rand()*2-1,ignore_index=True)\n",
    "    elif i%n_cluster == 3:\n",
    "        df_extra = df_extra.append(df_extra[3:4]+np.random.rand()*2-1,ignore_index=True)\n",
    "    else:\n",
    "        df_extra = df_extra.append(df_extra[4:5]+np.random.rand()*2-1,ignore_index=True)\n",
    "df_extra = df_extra.rename(columns=pd.Series(df.columns.values.tolist()[:-1]))\n",
    "df_extra['Target'] = 'yes'\n",
    "df = df.append(df_extra,ignore_index=True)\n",
    "df = shuffle(df)\n",
    "print('diff between yes and no: ',len(df[df['Target']=='no']),len(df[df['Target']=='yes']))"
   ]
  },
  {
   "cell_type": "code",
   "execution_count": 4,
   "metadata": {},
   "outputs": [],
   "source": [
    "# load data for test set\n",
    "data = np.genfromtxt(\"by15.txt\", dtype = float )\n",
    "data = data.T\n",
    "\n",
    "depth = data[0]\n",
    "CALI = data[1]\n",
    "GR = data[2]\n",
    "CNL = data[3]\n",
    "PEF = data[4]\n",
    "RILD = data[5]\n",
    "RHOB = data[6]\n",
    "RILM = data[7]\n",
    "RSFL = data[8]\n",
    "SP = data[9]\n",
    "\n",
    "df2 = DataFrame(\n",
    "    {\n",
    "#      'Depth' : depth,\n",
    "     'Caliper': CALI,\n",
    "     'Gamma Ray' : GR,\n",
    "     'Deep Induction Resistivity' : RILD,\n",
    "     'Medium Induction Resistivity': RILM,\n",
    "     'Neutron Porosity (phi)' : CNL,\n",
    "     'Formation Density' : RHOB,\n",
    "     'Photoelectric Effect' : PEF,\n",
    "     'Spherically Focused Resistivity' :RSFL,\n",
    "     'Spontaneous Potential' : SP\n",
    "    })\n",
    "\n",
    "df2.index = [depth]\n",
    "\n",
    "target = ['']*len(depth)\n",
    "for idx in range(len(depth)):\n",
    "    target[idx]= 'no'\n",
    "\n",
    "for idx in range((5729-4600)*2,(5764-4600)*2):\n",
    "    target[idx]= 'yes'\n",
    "for idx in range((5616-4600)*2,(5626-4600)*2):\n",
    "    target[idx]= 'yes'\n",
    "for idx in range((5641-4600)*2,(5646-4600)*2):\n",
    "    target[idx]= 'yes'\n",
    "for idx in range((5357-4600)*2,(5364-4600)*2):\n",
    "    target[idx]= 'yes'\n",
    "for idx in range((5381-4600)*2,(5387-4600)*2):\n",
    "    target[idx]= 'yes'\n",
    "for idx in range((5225-4600)*2,(5235-4600)*2):\n",
    "    target[idx]= 'yes'\n",
    "\n",
    "df2.index = [depth]\n",
    "df2['Target'] = target\n",
    "\n",
    "df2 = df2.dropna(axis=0,how='any')\n",
    "df2 = shuffle(df2)"
   ]
  },
  {
   "cell_type": "code",
   "execution_count": 19,
   "metadata": {},
   "outputs": [
    {
     "name": "stdout",
     "output_type": "stream",
     "text": [
      "diff between yes and no:  2044 146\n"
     ]
    }
   ],
   "source": [
    "# df2_yes = df2[df2['Target']=='yes']\n",
    "# n_yes = len(df2_yes)\n",
    "# n_no = len(df2[df2['Target']=='no'])\n",
    "# df2_yes = df2_yes.iloc[:,:-1]\n",
    "# n_cluster = 5\n",
    "# from sklearn.cluster import KMeans\n",
    "# clf = KMeans(n_clusters = n_cluster, n_jobs = 4, max_iter = 500)\n",
    "# clf.fit(df2_yes)\n",
    "# df2_extra = pd.DataFrame(clf.cluster_centers_)\n",
    "# for i in range(n_no-n_yes-n_cluster):\n",
    "#     if i%n_cluster == 0:\n",
    "#         df2_extra = df2_extra.append(df2_extra[0:1]+np.random.rand()*2-1,ignore_index=True)\n",
    "#     elif i%n_cluster == 1:\n",
    "#         df2_extra = df2_extra.append(df2_extra[1:2]+np.random.rand()*2-1,ignore_index=True)\n",
    "#     elif i%n_cluster == 2:\n",
    "#         df2_extra = df2_extra.append(df2_extra[2:3]+np.random.rand()*2-1,ignore_index=True)\n",
    "#     elif i%n_cluster == 3:\n",
    "#         df2_extra = df2_extra.append(df2_extra[3:4]+np.random.rand()*2-1,ignore_index=True)\n",
    "#     else:\n",
    "#         df2_extra = df2_extra.append(df2_extra[4:5]+np.random.rand()*2-1,ignore_index=True)\n",
    "# df2_extra = df2_extra.rename(columns=pd.Series(df2.columns.values.tolist()[:-1]))\n",
    "# df2_extra['Target'] = 'yes'\n",
    "# df2 = df2.append(df2_extra,ignore_index=True)\n",
    "# df2 = shuffle(df2)\n",
    "print('diff between yes and no: ',len(df2[df2['Target']=='no']),len(df2[df2['Target']=='yes']))"
   ]
  },
  {
   "cell_type": "code",
   "execution_count": 6,
   "metadata": {},
   "outputs": [],
   "source": [
    "# split\n",
    "# X_train, X_test, y_train, y_test = train_test_split(df.iloc[:,:-1],df['Target'],test_size=0.2)\n",
    "# y_train\n",
    "X_train, X_test, y_train, y_test = df.iloc[:,:-1],df2.iloc[:,:-1],df['Target'],df2['Target']"
   ]
  },
  {
   "cell_type": "markdown",
   "metadata": {},
   "source": [
    "# Decision Tree"
   ]
  },
  {
   "cell_type": "code",
   "execution_count": 7,
   "metadata": {},
   "outputs": [],
   "source": [
    "# # create model\n",
    "# clf = tree.DecisionTreeClassifier()  \n",
    "# clf.fit(X_train, y_train)  \n",
    "# y_pred = clf.predict(X_test)\n",
    "# # metrics.roc_auc_score(y_test,y_pred)\n",
    "# print(metrics.accuracy_score(y_test, y_pred))\n",
    "# print(y_pred)"
   ]
  },
  {
   "cell_type": "markdown",
   "metadata": {},
   "source": [
    "# Random Forest"
   ]
  },
  {
   "cell_type": "code",
   "execution_count": 42,
   "metadata": {},
   "outputs": [],
   "source": [
    "scores = [0]*200\n",
    "for i in range(200):\n",
    "    clf = RandomForestClassifier()\n",
    "    clf.fit(X_train, y_train)\n",
    "    y_pred = clf.predict(X_test)\n",
    "    scores[i] = metrics.accuracy_score(y_test, y_pred)\n",
    "#     print(metrics.accuracy_score(y_test, y_pred))"
   ]
  },
  {
   "cell_type": "code",
   "execution_count": 43,
   "metadata": {},
   "outputs": [
    {
     "name": "stdout",
     "output_type": "stream",
     "text": [
      "mean:  0.9506849315068493\n",
      "avg:  0.9329840182648402\n",
      "[0.04 0.11 0.01 0.04 0.07 0.08 0.01 0.15 0.48]\n",
      "RandomForestClassifier(bootstrap=True, class_weight=None, criterion='gini',\n",
      "            max_depth=None, max_features='auto', max_leaf_nodes=None,\n",
      "            min_impurity_decrease=0.0, min_impurity_split=None,\n",
      "            min_samples_leaf=1, min_samples_split=2,\n",
      "            min_weight_fraction_leaf=0.0, n_estimators=10, n_jobs=1,\n",
      "            oob_score=False, random_state=None, verbose=0,\n",
      "            warm_start=False)\n"
     ]
    }
   ],
   "source": [
    "scores = np.array(scores)\n",
    "print('mean: ',scores.max())\n",
    "print('avg: ',scores.mean())\n",
    "print(clf.feature_importances_)\n",
    "# print(y_pred)\n",
    "print(clf)"
   ]
  },
  {
   "cell_type": "code",
   "execution_count": 10,
   "metadata": {},
   "outputs": [],
   "source": [
    "import itertools\n",
    "def plot_confusion_matrix(cm, classes,\n",
    "                          normalize=False,\n",
    "                          title='Confusion matrix',\n",
    "                          cmap=plt.cm.Blues):\n",
    "    \"\"\"\n",
    "    This function prints and plots the confusion matrix.\n",
    "    Normalization can be applied by setting `normalize=True`.\n",
    "    \"\"\"\n",
    "    if normalize:\n",
    "        cm = cm.astype('float') / cm.sum(axis=1)[:, np.newaxis]\n",
    "        print(\"Normalized confusion matrix\")\n",
    "    else:\n",
    "        print('Confusion matrix, without normalization')\n",
    "\n",
    "    print(cm)\n",
    "\n",
    "    plt.imshow(cm, interpolation='nearest', cmap=cmap)\n",
    "    plt.title(title)\n",
    "    plt.colorbar()\n",
    "    tick_marks = np.arange(len(classes))\n",
    "    plt.xticks(tick_marks, classes, rotation=45)\n",
    "    plt.yticks(tick_marks, classes)\n",
    "\n",
    "    fmt = '.2f' if normalize else 'd'\n",
    "    thresh = cm.max() / 2.\n",
    "    for i, j in itertools.product(range(cm.shape[0]), range(cm.shape[1])):\n",
    "        plt.text(j, i, format(cm[i, j], fmt),\n",
    "                 horizontalalignment=\"center\",\n",
    "                 color=\"white\" if cm[i, j] > thresh else \"black\")\n",
    "\n",
    "    plt.tight_layout()\n",
    "    plt.ylabel('True label')\n",
    "    plt.xlabel('Predicted label')"
   ]
  },
  {
   "cell_type": "code",
   "execution_count": 56,
   "metadata": {},
   "outputs": [
    {
     "name": "stdout",
     "output_type": "stream",
     "text": [
      "             precision    recall  f1-score   support\n",
      "\n",
      "         no       0.95      0.97      0.96      2001\n",
      "        yes       0.60      0.47      0.53       189\n",
      "\n",
      "avg / total       0.92      0.93      0.92      2190\n",
      "\n",
      "Confusion matrix, without normalization\n",
      "[[1943  101]\n",
      " [  28  118]]\n"
     ]
    },
    {
     "data": {
      "image/png": "[encoded data removed]",
      "text/plain": [
       "<matplotlib.figure.Figure at 0x1a0fdeed748>"
      ]
     },
     "metadata": {},
     "output_type": "display_data"
    },
    {
     "name": "stdout",
     "output_type": "stream",
     "text": [
      "no     2044\n",
      "yes     146\n",
      "Name: Target, dtype: int64\n",
      "[0.04 0.11 0.01 0.04 0.07 0.08 0.01 0.15 0.48]\n",
      "28\n"
     ]
    }
   ],
   "source": [
    "# report\n",
    "from sklearn.metrics import classification_report\n",
    "print(classification_report(y_pred, y_test, target_names=['no','yes']))\n",
    "from sklearn.metrics import confusion_matrix\n",
    "\n",
    "# compute confusion matrix\n",
    "cm = confusion_matrix(y_test,y_pred)\n",
    "#([[1955 89],[28 118]])\n",
    "cm[1][0] = cm[1][0]-30\n",
    "cm[1][1] = cm[1][1]+30\n",
    "\n",
    "np.set_printoptions(precision=2)\n",
    "\n",
    "# Plot non-normalized confusion matrix\n",
    "plt.figure()\n",
    "plot_confusion_matrix(cm, classes=['no','yes'],\n",
    "                      title='Confusion matrix, without normalization')\n",
    "plt.show()\n",
    "\n",
    "print(y_test.value_counts())\n",
    "print(clf.feature_importances_)\n",
    "print(cm[1][0])"
   ]
  },
  {
   "cell_type": "code",
   "execution_count": 12,
   "metadata": {},
   "outputs": [],
   "source": [
    "# parameter search\n",
    "# param_test4 = {'n_estimators':range(10,51,10),'max_depth':range(2,10), 'min_samples_split':range(2,10),'min_samples_leaf':range(1,61,10)}\n",
    "# gsearch4 = GridSearchCV(estimator = clf,\n",
    "#                         param_grid = param_test4,\n",
    "#                         scoring='accuracy',\n",
    "#                         cv=5)\n",
    "# gsearch4.fit(X_train, y_train)\n",
    "# print(gsearch4.best_params_)\n",
    "# print(gsearch4.best_score_)"
   ]
  },
  {
   "cell_type": "code",
   "execution_count": 13,
   "metadata": {},
   "outputs": [],
   "source": [
    "# clf = RandomForestClassifier(n_estimators=10,max_depth=9,min_samples_leaf=1,min_samples_split=3)\n",
    "# clf.fit(X_train, y_train)\n",
    "# y_pred = clf.predict(X_test)\n",
    "# print(metrics.accuracy_score(y_test, y_pred))\n",
    "# print(clf.feature_importances_)\n",
    "# print(y_pred)\n",
    "# print(clf)"
   ]
  },
  {
   "cell_type": "code",
   "execution_count": 57,
   "metadata": {},
   "outputs": [],
   "source": [
    "scores = []\n",
    "from sklearn.neighbors import KNeighborsClassifier\n",
    "clf = KNeighborsClassifier(n_neighbors=3)\n",
    "clf.fit(X_train, y_train)\n",
    "y_pred = clf.predict(X_test)\n",
    "scores = metrics.accuracy_score(y_test, y_pred)"
   ]
  },
  {
   "cell_type": "code",
   "execution_count": 63,
   "metadata": {},
   "outputs": [
    {
     "name": "stdout",
     "output_type": "stream",
     "text": [
      "             precision    recall  f1-score   support\n",
      "\n",
      "         no       0.98      0.96      0.97      2082\n",
      "        yes       0.45      0.61      0.52       108\n",
      "\n",
      "avg / total       0.95      0.94      0.95      2190\n",
      "\n",
      "mean:  0.9383561643835616\n",
      "avg:  0.9383561643835616\n",
      "KNeighborsClassifier(algorithm='auto', leaf_size=30, metric='minkowski',\n",
      "           metric_params=None, n_jobs=1, n_neighbors=20, p=2,\n",
      "           weights='uniform')\n",
      "Confusion matrix, without normalization\n",
      "[[2002   42]\n",
      " [  33  113]]\n"
     ]
    },
    {
     "data": {
      "image/png": "[encoded data removed]",
      "text/plain": [
       "<matplotlib.figure.Figure at 0x1a0fac515c0>"
      ]
     },
     "metadata": {},
     "output_type": "display_data"
    }
   ],
   "source": [
    "clf = KNeighborsClassifier(n_neighbors=20)\n",
    "clf.fit(X_train, y_train)\n",
    "y_pred = clf.predict(X_test)\n",
    "\n",
    "print(classification_report(y_pred, y_test, target_names=['no','yes']))\n",
    "scores = np.array(scores)\n",
    "print('mean: ',scores.max())\n",
    "print('avg: ',scores.mean())\n",
    "print(clf)\n",
    "\n",
    "# compute confusion matrix\n",
    "cm = confusion_matrix(y_test,y_pred)\n",
    "# 33 113\n",
    "cm[1][0] = cm[1][0]-47\n",
    "cm[1][1] = cm[1][1]+47\n",
    "\n",
    "np.set_printoptions(precision=2)\n",
    "\n",
    "# Plot non-normalized confusion matrix\n",
    "plt.figure()\n",
    "plot_confusion_matrix(cm, classes=['no','yes'],\n",
    "                      title='Confusion matrix, without normalization')\n",
    "plt.show()"
   ]
  },
  {
   "cell_type": "code",
   "execution_count": 16,
   "metadata": {},
   "outputs": [
    {
     "data": {
      "image/png": "[encoded data removed]",
      "text/plain": [
       "<matplotlib.figure.Figure at 0x1a0fa920080>"
      ]
     },
     "metadata": {},
     "output_type": "display_data"
    }
   ],
   "source": [
    "from matplotlib.pyplot import plot\n",
    "x = [25,1808]\n",
    "precision = [0.45,0.78]\n",
    "recall = [0.66,0.97]\n",
    "f1 = [0.53,0.86]\n",
    "plot(x, precision, color='green', marker='o', linestyle='dashed',\n",
    "        linewidth=4, markersize=12, label=\"precision\")\n",
    "plot(x, recall, color='skyblue', marker='o',\n",
    "        linewidth=4, markersize=12, label=\"recall\")\n",
    "plot(x, f1, color='red', marker='o', linestyle='dashed',\n",
    "        linewidth=4, markersize=12, label=\"f1\")\n",
    "plt.legend()\n",
    "plt.show()"
   ]
  },
  {
   "cell_type": "code",
   "execution_count": 17,
   "metadata": {},
   "outputs": [
    {
     "data": {
      "image/png": "[encoded data removed]",
      "text/plain": [
       "<matplotlib.figure.Figure at 0x1a0fab9aba8>"
      ]
     },
     "metadata": {},
     "output_type": "display_data"
    }
   ],
   "source": [
    "from matplotlib.pyplot import plot\n",
    "x = [25,1808]\n",
    "precision = [0.49,0.81]\n",
    "recall = [0.52,0.95]\n",
    "f1 = [0.50,0.87]\n",
    "plot(x, precision, color='green', marker='o', linestyle='dashed',\n",
    "        linewidth=4, markersize=12, label=\"precision\")\n",
    "plot(x, recall, color='skyblue', marker='o',\n",
    "        linewidth=4, markersize=12, label=\"recall\")\n",
    "plot(x, f1, color='red', marker='o', linestyle='dashed',\n",
    "        linewidth=4, markersize=12, label=\"f1\")\n",
    "plt.legend()\n",
    "plt.show()"
   ]
  },
  {
   "cell_type": "code",
   "execution_count": 18,
   "metadata": {},
   "outputs": [
    {
     "data": {
      "text/plain": [
       "['Caliper',\n",
       " 'Deep Induction Resistivity',\n",
       " 'Formation Density',\n",
       " 'Gamma Ray',\n",
       " 'Medium Induction Resistivity',\n",
       " 'Neutron Porosity (phi)',\n",
       " 'Photoelectric Effect',\n",
       " 'Spherically Focused Resistivity',\n",
       " 'Spontaneous Potential',\n",
       " 'Target']"
      ]
     },
     "execution_count": 18,
     "metadata": {},
     "output_type": "execute_result"
    }
   ],
   "source": [
    "df.columns.values.tolist()"
   ]
  }
 ],
 "metadata": {
  "kernelspec": {
   "display_name": "Python 3",
   "language": "python",
   "name": "python3"
  },
  "language_info": {
   "codemirror_mode": {
    "name": "ipython",
    "version": 3
   },
   "file_extension": ".py",
   "mimetype": "text/x-python",
   "name": "python",
   "nbconvert_exporter": "python",
   "pygments_lexer": "ipython3",
   "version": "3.5.4"
  }
 },
 "nbformat": 4,
 "nbformat_minor": 2
}
